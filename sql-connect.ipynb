{
 "cells": [
  {
   "cell_type": "code",
   "execution_count": null,
   "metadata": {},
   "outputs": [],
   "source": [
    "# importa as bibliotecas\n",
    "import pyodbc\n",
    "import sqlalchemy as sa\n",
    "import pandas as pd\n",
    "import urllib"
   ]
  },
  {
   "cell_type": "markdown",
   "metadata": {},
   "source": [
    "**Documentação do SQLAlchemy.** \n",
    "https://docs.sqlalchemy.org/en/13/index.html\n",
    "\n",
    "## Criando a conexão\n",
    "\n",
    "* **Substitua o DRIVER de acordo com o que possui:**\n",
    " * {SQL Server} - released with SQL Server 2000\n",
    " * {SQL Native Client} - released with SQL Server 2005 (also known as version 9.0)\n",
    " * {SQL Server Native Client 10.0} - released with SQL Server 2008\n",
    " * {SQL Server Native Client 11.0} - released with SQL Server 2012\n",
    " * {ODBC Driver 11 for SQL Server} - supports SQL Server 2005 through 2014\n",
    " * {ODBC Driver 13 for SQL Server} - supports SQL Server 2005 through 2016\n",
    " * {ODBC Driver 13.1 for SQL Server} - supports SQL Server 2008 through 2016\n",
    " * {ODBC Driver 17 for SQL Server} - supports SQL Server 2008 through 2019\n",
    " \n",
    "\n",
    "* **SERVER_NAME** = Nome do servidor/Instância\n",
    "* **DATABASE_NAME** = Nome do Banco de Dados\n",
    "* **USER_BD** = Nome do usuário\n",
    "* **PASSWORD** = Senha\n",
    "\n"
   ]
  },
  {
   "cell_type": "code",
   "execution_count": null,
   "metadata": {},
   "outputs": [],
   "source": [
    "params = urllib.parse.quote_plus(\"DRIVER={ODBC Driver 17 for SQL Server};\"\n",
    "                                 \"SERVER=SERVER_NAME;\"\n",
    "                                 \"DATABASE=DATABASE_NAME;\"\n",
    "                                 \"UID=USER_BD;\"\n",
    "                                 \"PWD=PASSWORD\")\n",
    "\n",
    "engine = sa.create_engine(\"mssql+pyodbc:///?odbc_connect=%s\" % params)"
   ]
  }
 ],
 "metadata": {
  "kernelspec": {
   "display_name": "Python 3",
   "language": "python",
   "name": "python3"
  },
  "language_info": {
   "codemirror_mode": {
    "name": "ipython",
    "version": 3
   },
   "file_extension": ".py",
   "mimetype": "text/x-python",
   "name": "python",
   "nbconvert_exporter": "python",
   "pygments_lexer": "ipython3",
   "version": "3.8.5"
  }
 },
 "nbformat": 4,
 "nbformat_minor": 4
}
